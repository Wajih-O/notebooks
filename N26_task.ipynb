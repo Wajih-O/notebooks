{
 "cells": [
  {
   "cell_type": "code",
   "execution_count": 1,
   "metadata": {
    "collapsed": false
   },
   "outputs": [
    {
     "name": "stderr",
     "output_type": "stream",
     "text": [
      "/Users/wajih/dato-env/lib/python2.7/site-packages/matplotlib/font_manager.py:273: UserWarning: Matplotlib is building the font cache using fc-list. This may take a moment.\n",
      "  warnings.warn('Matplotlib is building the font cache using fc-list. This may take a moment.')\n"
     ]
    }
   ],
   "source": [
    "import numpy as np\n",
    "import pandas as pd\n",
    "from matplotlib import pyplot as plt\n",
    "%matplotlib inline"
   ]
  },
  {
   "cell_type": "code",
   "execution_count": 2,
   "metadata": {
    "collapsed": false
   },
   "outputs": [],
   "source": [
    "# loading data \n",
    "train_data_df = pd.read_csv('./data/n26/train.csv')"
   ]
  },
  {
   "cell_type": "code",
   "execution_count": 3,
   "metadata": {
    "collapsed": false
   },
   "outputs": [
    {
     "data": {
      "text/plain": [
       "Index([u'id', u'created', u'updated', u'birthdate', u'birthPlace', u'gender',\n",
       "       u'lastName', u'nationality', u'passportType', u'signupCompleted'],\n",
       "      dtype='object')"
      ]
     },
     "execution_count": 3,
     "metadata": {},
     "output_type": "execute_result"
    }
   ],
   "source": [
    "train_data_df.columns"
   ]
  },
  {
   "cell_type": "markdown",
   "metadata": {},
   "source": [
    "## Some clean-up of the data and helper functions\n",
    "\n",
    "This section is revisited and updated each time we find something to fix about the data, or we find a need to a tool function that will be used later or/and 'highly' shared in this notebook"
   ]
  },
  {
   "cell_type": "code",
   "execution_count": 4,
   "metadata": {
    "collapsed": false
   },
   "outputs": [],
   "source": [
    "# Cleaning-up (normalize) the birth place\n",
    "def clean_city_name(city):\n",
    "    return city.decode('utf-8').lower().title()\n",
    "\n",
    "def gender_to_str(gender):\n",
    "    \"\"\" Assumes that 0 indexes male, and 1 female \"\"\"\n",
    "    if gender == 0:\n",
    "        return 'm'\n",
    "    return 'f'\n",
    "        \n",
    "train_data_df['birthPlace'] = train_data_df['birthPlace'].apply(lambda item: clean_city_name(item))\n",
    "train_data_df['gender_str'] = train_data_df['gender'].apply(lambda item: gender_to_str(item))\n"
   ]
  },
  {
   "cell_type": "markdown",
   "metadata": {},
   "source": [
    "### Helper functions for grouping by feature"
   ]
  },
  {
   "cell_type": "code",
   "execution_count": 5,
   "metadata": {
    "collapsed": false
   },
   "outputs": [],
   "source": [
    "# Helper function to build (count) dictionary for histogram    \n",
    "def build_hist_dict(data, feature='nationality'):\n",
    "    \"\"\" Build count dictionary which supports items filtering. \"\"\"\n",
    "    hist_dict = {}\n",
    "    for item in data[feature]:\n",
    "        hist_dict[item] = hist_dict.get(item, 0) + 1\n",
    "    return hist_dict\n",
    "\n",
    "def plot_hist_dict(data, feature, top_k=10, color='blue', title=''):\n",
    "    \"\"\" build and plot hist dict. \"\"\"\n",
    "    hist_dict = build_hist_dict(data, feature=feature)\n",
    "    top_k_items = sorted ([(k,v) for k,v in hist_dict.iteritems()],\n",
    "                              key = lambda x: x[1], reverse= True)[:top_k]\n",
    "    top_k_items.reverse() # for plotting purpose\n",
    "    ticks_labels, y = zip(*top_k_items)\n",
    "    # ticks_labels = [item.decode('utf-8') for item in ticks_labels]\n",
    "    f, ax = plt.subplots(figsize=(6, int(max(len(top_k_items), 3)/3)))\n",
    "    ax.grid()\n",
    "    width = 0.8\n",
    "    ax.set_yticks(range(top_k))\n",
    "    ax.set_yticklabels(ticks_labels)\n",
    "    ax.barh(range(len(y)), list(y), color=color)\n",
    "\n",
    "def drop_column(df, column_name):\n",
    "    \"\"\" Drops column (with column_name) from dataframe. (if it exists) \"\"\"\n",
    "    if column_name in df:\n",
    "        df.drop(column_name, axis=1, inplace=True)"
   ]
  },
  {
   "cell_type": "markdown",
   "metadata": {},
   "source": [
    "## Some observation on signupCompleted"
   ]
  },
  {
   "cell_type": "markdown",
   "metadata": {},
   "source": [
    "### Relation between passportType and signupCompleted\n",
    "\n",
    "A first examination of the data, unveils that in the most of the case if the passportType exist it tells about the completeness of the signup but let's verify that numerically"
   ]
  },
  {
   "cell_type": "code",
   "execution_count": 6,
   "metadata": {
    "collapsed": false
   },
   "outputs": [
    {
     "name": "stdout",
     "output_type": "stream",
     "text": [
      "in 90.9214285714% of the cases an entred Pass or Id card is telling the completeness of signup process\n"
     ]
    }
   ],
   "source": [
    "# Inspect the correlation between the passportType and signupCompleted \n",
    "# it should tell if we can exploit this feature to learn from for a new user\n",
    "train_data_df['pass_is_not_nan'] =\\\n",
    "    train_data_df['passportType'].apply(lambda item: int(not pd.isnull(item)))\n",
    "train_data_df ['signup_pass_entred'] = train_data_df.apply(lambda item:\\\n",
    "                                int(item['pass_is_not_nan'] == item['signupCompleted']), axis=1)\n",
    "print 'in {}% of the cases an entred Pass or Id card is telling the completeness \\\n",
    "of signup process'.\\\n",
    "format(100*sum(train_data_df ['signup_pass_entred'])/float(len(train_data_df)))"
   ]
  },
  {
   "cell_type": "markdown",
   "metadata": {},
   "source": [
    "in other words a naive classifier could be item['pass_is_not_nan'] it self, and it performs pretty well with more than 90% of accuracy, a serious classifier in that case should performs with acccuracy better than 0.9092, let's verify the majority class classifier"
   ]
  },
  {
   "cell_type": "markdown",
   "metadata": {},
   "source": [
    "### (naive) Majority class classifier"
   ]
  },
  {
   "cell_type": "code",
   "execution_count": 7,
   "metadata": {
    "collapsed": false
   },
   "outputs": [
    {
     "name": "stdout",
     "output_type": "stream",
     "text": [
      "majority class classifier accuracy: 0.642857142857\n"
     ]
    }
   ],
   "source": [
    "signup_uncompleted = train_data_df[train_data_df['signupCompleted'] == 0]\n",
    "signup_completed = train_data_df[train_data_df['signupCompleted'] == 1]\n",
    "signup_uncompleted_prop = float(len(signup_uncompleted))/len(train_data_df)\n",
    "print 'majority class classifier accuracy: {}'.format(max(signup_uncompleted_prop,\n",
    "                                                           1-signup_uncompleted_prop))"
   ]
  },
  {
   "cell_type": "markdown",
   "metadata": {},
   "source": [
    "pass_is_not_nan performs a way better than the majority class classifier :)"
   ]
  },
  {
   "cell_type": "markdown",
   "metadata": {},
   "source": [
    "## Signup by gender"
   ]
  },
  {
   "cell_type": "code",
   "execution_count": 8,
   "metadata": {
    "collapsed": false
   },
   "outputs": [
    {
     "data": {
      "image/png": "[encoded data removed]",
      "text/plain": [
       "<matplotlib.figure.Figure at 0x115d6e850>"
      ]
     },
     "metadata": {},
     "output_type": "display_data"
    }
   ],
   "source": [
    "plot_hist_dict(signup_uncompleted, feature='gender_str', top_k=10)"
   ]
  },
  {
   "cell_type": "code",
   "execution_count": 9,
   "metadata": {
    "collapsed": false
   },
   "outputs": [
    {
     "data": {
      "image/png": "[encoded data removed]",
      "text/plain": [
       "<matplotlib.figure.Figure at 0x115f37b10>"
      ]
     },
     "metadata": {},
     "output_type": "display_data"
    }
   ],
   "source": [
    "plot_hist_dict(signup_completed, feature='gender_str', top_k=10) "
   ]
  },
  {
   "cell_type": "markdown",
   "metadata": {},
   "source": [
    "Seems that the Male gender is more successful in signup than Female gender, let's put some number on this:"
   ]
  },
  {
   "cell_type": "code",
   "execution_count": 10,
   "metadata": {
    "collapsed": false
   },
   "outputs": [
    {
     "name": "stdout",
     "output_type": "stream",
     "text": [
      "signup completed rate for m gender: 0.662825955124\n",
      "signup completed rate for f gender: 0.549043549044\n"
     ]
    }
   ],
   "source": [
    "complete_signup_mf = build_hist_dict(signup_completed, feature='gender_str')\n",
    "all_mf = build_hist_dict(train_data_df, feature='gender_str')\n",
    "for gender in ['m', 'f']:\n",
    "    print 'signup completed rate for {} gender: {}'.\\\n",
    "        format(gender, float(complete_signup_mf[gender])/all_mf[gender])\n"
   ]
  },
  {
   "cell_type": "markdown",
   "metadata": {},
   "source": [
    "## Signup by Nationality and birthplace"
   ]
  },
  {
   "cell_type": "code",
   "execution_count": 11,
   "metadata": {
    "collapsed": false
   },
   "outputs": [
    {
     "data": {
      "image/png": "[encoded data removed]",
      "text/plain": [
       "<matplotlib.figure.Figure at 0x115f85090>"
      ]
     },
     "metadata": {},
     "output_type": "display_data"
    }
   ],
   "source": [
    "plot_hist_dict(signup_uncompleted, feature='nationality', top_k=10) "
   ]
  },
  {
   "cell_type": "code",
   "execution_count": 12,
   "metadata": {
    "collapsed": false
   },
   "outputs": [
    {
     "data": {
      "image/png": "[encoded data removed]",
      "text/plain": [
       "<matplotlib.figure.Figure at 0x116019ed0>"
      ]
     },
     "metadata": {},
     "output_type": "display_data"
    }
   ],
   "source": [
    "plot_hist_dict(signup_uncompleted, feature='gender_str')"
   ]
  },
  {
   "cell_type": "code",
   "execution_count": 13,
   "metadata": {
    "collapsed": false
   },
   "outputs": [
    {
     "data": {
      "image/png": "[encoded data removed]",
      "text/plain": [
       "<matplotlib.figure.Figure at 0x116173990>"
      ]
     },
     "metadata": {},
     "output_type": "display_data"
    }
   ],
   "source": [
    "plot_hist_dict(signup_uncompleted, feature='birthPlace', top_k=20) "
   ]
  },
  {
   "cell_type": "markdown",
   "metadata": {},
   "source": [
    "## Hacking the timestamp for birthdate and the created and the updated (features)"
   ]
  },
  {
   "cell_type": "code",
   "execution_count": 14,
   "metadata": {
    "collapsed": true
   },
   "outputs": [],
   "source": [
    "import scipy.stats as stats"
   ]
  },
  {
   "cell_type": "code",
   "execution_count": 15,
   "metadata": {
    "collapsed": true
   },
   "outputs": [],
   "source": [
    "def ts_interval_to_years(ts_interval):\n",
    "    return float(ts_interval)/(3600000*24*365)\n",
    "    \n",
    "train_data_df ['estimated_age_at_creation'] = train_data_df.apply(lambda item:\\\n",
    "                                ts_interval_to_years(item['created'] - item['birthdate']), axis=1)"
   ]
  },
  {
   "cell_type": "code",
   "execution_count": 16,
   "metadata": {
    "collapsed": false
   },
   "outputs": [
    {
     "data": {
      "text/plain": [
       "[<matplotlib.lines.Line2D at 0x1177c2b90>]"
      ]
     },
     "execution_count": 16,
     "metadata": {},
     "output_type": "execute_result"
    },
    {
     "data": {
      "image/png": "[encoded data removed]",
      "text/plain": [
       "<matplotlib.figure.Figure at 0x117738ed0>"
      ]
     },
     "metadata": {},
     "output_type": "display_data"
    }
   ],
   "source": [
    "# Sanity check for the estimated age in years,\n",
    "users_older_than_age_distrib = []\n",
    "for check_point in np.arange(0,100, 10):\n",
    "    users_older_than_age_distrib.append((check_point,\n",
    "                                         len(train_data_df [train_data_df ['estimated_age_at_creation']>check_point])/\\\n",
    "                                         float(len(train_data_df)))) # as proportion of the total data\n",
    "\n",
    "age, users = zip(*users_older_than_age_distrib)\n",
    "plt.plot(age, users)"
   ]
  },
  {
   "cell_type": "markdown",
   "metadata": {},
   "source": [
    "the age estimation seems ok :) according to the (cumulative) distribution of the users age"
   ]
  },
  {
   "cell_type": "code",
   "execution_count": 17,
   "metadata": {
    "collapsed": false
   },
   "outputs": [
    {
     "data": {
      "text/plain": [
       "(array([  3.28286002e-02,   3.96160620e-02,   2.39679429e-02,\n",
       "          1.58283970e-02,   9.02290741e-03,   3.60555741e-03,\n",
       "          1.01856997e-03,   2.34361231e-04,   6.30972546e-05,\n",
       "          9.01389352e-06]),\n",
       " array([ 18.01160948,  25.93588452,  33.86015956,  41.7844346 ,\n",
       "         49.70870965,  57.63298469,  65.55725973,  73.48153478,\n",
       "         81.40580982,  89.33008486,  97.25435991]),\n",
       " <a list of 10 Patch objects>)"
      ]
     },
     "execution_count": 17,
     "metadata": {},
     "output_type": "execute_result"
    },
    {
     "data": {
      "image/png": "[encoded data removed]",
      "text/plain": [
       "<matplotlib.figure.Figure at 0x117738310>"
      ]
     },
     "metadata": {},
     "output_type": "display_data"
    }
   ],
   "source": [
    "# Approximate with normal distribution\n",
    "age_at_creation = sorted(train_data_df ['estimated_age_at_creation'])\n",
    "pdf = stats.norm.pdf(age_at_creation, np.mean(age_at_creation), np.std(age_at_creation))\n",
    "plt.plot(age_at_creation, pdf)\n",
    "plt.hist(age_at_creation,normed=True)  "
   ]
  },
  {
   "cell_type": "code",
   "execution_count": 18,
   "metadata": {
    "collapsed": true
   },
   "outputs": [],
   "source": [
    "# Pushing further the cleaning removing the users that did not complete the signup should shrink more \n",
    "# the distribution removing weight from old people \n",
    "# (expecting that for example not serious user will put any number as his age) but also old people could be \n",
    "# incofortable with the online forms ...."
   ]
  },
  {
   "cell_type": "code",
   "execution_count": 19,
   "metadata": {
    "collapsed": true
   },
   "outputs": [],
   "source": [
    "# Further Hacking (the origine of timestamp)\n",
    "train_data_df ['created_year'] = train_data_df ['created'].apply(lambda ts:ts_interval_to_years(ts))"
   ]
  },
  {
   "cell_type": "code",
   "execution_count": 20,
   "metadata": {
    "collapsed": false
   },
   "outputs": [
    {
     "data": {
      "text/plain": [
       "(array([  1.80278169e-03,   1.08166901e-02,   7.15103402e-02,\n",
       "          3.91804553e-01,   6.81451478e-01,   5.90110539e-01,\n",
       "          1.09068292e+00,   1.43020680e+00,   1.78415294e+00,\n",
       "          2.36044216e+00]),\n",
       " array([ 44.77440388,  44.89326781,  45.01213174,  45.13099567,\n",
       "         45.2498596 ,  45.36872353,  45.48758745,  45.60645138,\n",
       "         45.72531531,  45.84417924,  45.96304317]),\n",
       " <a list of 10 Patch objects>)"
      ]
     },
     "execution_count": 20,
     "metadata": {},
     "output_type": "execute_result"
    },
    {
     "data": {
      "image/png": "[encoded data removed]",
      "text/plain": [
       "<matplotlib.figure.Figure at 0x1179f3e10>"
      ]
     },
     "metadata": {},
     "output_type": "display_data"
    }
   ],
   "source": [
    "# Estimate the age(activity)/(birthday) of the Company\n",
    "# Approximate with normal distribution\n",
    "cp_age = sorted(train_data_df ['created_year'])\n",
    "pdf = stats.norm.pdf(cp_age, np.mean(cp_age), np.std(cp_age))\n",
    "plt.plot(cp_age, pdf)\n",
    "plt.hist(cp_age,normed=True)"
   ]
  },
  {
   "cell_type": "markdown",
   "metadata": {},
   "source": [
    "The graphics is showing that the company is doing well (at least in term of user visits for signup we will check later after filtering the users that have not completed the signup) and the normal estimation should move to the right/up if you keep going :) . We can also guess: assuming that the data is quite recent and that the age estimation is ok, \n",
    "it seems that the origin of the timestamp is set to be 1970. So now we can make the data more human readable (sub sampling the timestamps to a day date)."
   ]
  },
  {
   "cell_type": "code",
   "execution_count": 21,
   "metadata": {
    "collapsed": false
   },
   "outputs": [],
   "source": [
    "from datetime import datetime\n",
    "from datetime import timedelta\n",
    "\n",
    "def time_stamp_to_date(ts):\n",
    "    return datetime.strptime('{}'.format('01/01/1970'),  '%d/%m/%Y' ) +\\\n",
    "    timedelta(seconds=float(ts)/1000)\n",
    "\n",
    "# Here time makes sense\n",
    "for feature in ['created', 'updated']:\n",
    "    train_data_df['{}_estimated'.format(feature)] = train_data_df[feature].\\\n",
    "        apply(lambda item: time_stamp_to_date(item))\n",
    "# Here a date is sfficient\n",
    "train_data_df['birthdate_estimated'.format(feature)] = train_data_df['birthdate'].\\\n",
    "        apply(lambda item: time_stamp_to_date(item).date())"
   ]
  },
  {
   "cell_type": "code",
   "execution_count": 22,
   "metadata": {
    "collapsed": false
   },
   "outputs": [
    {
     "data": {
      "text/html": [
       "<div>\n",
       "<table border=\"1\" class=\"dataframe\">\n",
       "  <thead>\n",
       "    <tr style=\"text-align: right;\">\n",
       "      <th></th>\n",
       "      <th>created_estimated</th>\n",
       "      <th>updated_estimated</th>\n",
       "      <th>birthdate_estimated</th>\n",
       "    </tr>\n",
       "  </thead>\n",
       "  <tbody>\n",
       "    <tr>\n",
       "      <th>0</th>\n",
       "      <td>2015-09-25 16:18:03.001</td>\n",
       "      <td>2015-09-25 16:18:16.235</td>\n",
       "      <td>1990-05-19</td>\n",
       "    </tr>\n",
       "    <tr>\n",
       "      <th>1</th>\n",
       "      <td>2015-04-09 20:39:18.175</td>\n",
       "      <td>2015-04-15 17:47:07.256</td>\n",
       "      <td>1985-05-30</td>\n",
       "    </tr>\n",
       "    <tr>\n",
       "      <th>2</th>\n",
       "      <td>2015-08-14 06:58:23.921</td>\n",
       "      <td>2015-08-21 19:23:13.813</td>\n",
       "      <td>1970-12-30</td>\n",
       "    </tr>\n",
       "    <tr>\n",
       "      <th>3</th>\n",
       "      <td>2015-05-23 12:27:32.310</td>\n",
       "      <td>2015-12-02 18:53:07.609</td>\n",
       "      <td>1976-07-09</td>\n",
       "    </tr>\n",
       "    <tr>\n",
       "      <th>4</th>\n",
       "      <td>2015-10-22 14:57:43.964</td>\n",
       "      <td>2015-10-28 17:23:07.296</td>\n",
       "      <td>1982-08-11</td>\n",
       "    </tr>\n",
       "  </tbody>\n",
       "</table>\n",
       "</div>"
      ],
      "text/plain": [
       "        created_estimated       updated_estimated birthdate_estimated\n",
       "0 2015-09-25 16:18:03.001 2015-09-25 16:18:16.235          1990-05-19\n",
       "1 2015-04-09 20:39:18.175 2015-04-15 17:47:07.256          1985-05-30\n",
       "2 2015-08-14 06:58:23.921 2015-08-21 19:23:13.813          1970-12-30\n",
       "3 2015-05-23 12:27:32.310 2015-12-02 18:53:07.609          1976-07-09\n",
       "4 2015-10-22 14:57:43.964 2015-10-28 17:23:07.296          1982-08-11"
      ]
     },
     "execution_count": 22,
     "metadata": {},
     "output_type": "execute_result"
    }
   ],
   "source": [
    "train_data_df[['created_estimated', 'updated_estimated', 'birthdate_estimated']][:5]"
   ]
  },
  {
   "cell_type": "markdown",
   "metadata": {},
   "source": [
    "## Learning a model that predict signupCompleted "
   ]
  },
  {
   "cell_type": "code",
   "execution_count": 23,
   "metadata": {
    "collapsed": true
   },
   "outputs": [],
   "source": [
    "features = []\n",
    "def one_hot_encoding(data, feature, top_k=20):\n",
    "    \"\"\" Generates one hot encodin from a feature\n",
    "        top k will be the top k most frquent values to consider in the model (to limit the number of features) \n",
    "        to consider in the one hot encoding \"\"\"\n",
    "    hist_dict = build_hist_dict(data, feature=feature)\n",
    "    top_k_items = sorted ([(k,v) for k,v in hist_dict.iteritems()],\n",
    "                              key = lambda x: x[1], reverse= True)[:top_k]\n",
    "    \n",
    "    gen_features = []\n",
    "    for feature_item in zip(*top_k_items)[0]:\n",
    "        feature_to_gen = u'{}_{}_ohe'.format(feature, feature_item)\n",
    "        data[feature_to_gen] = data[feature].apply(lambda item: int(item == feature_item))\n",
    "        gen_features.append(feature_to_gen)\n",
    "    return  gen_features\n",
    "        \n",
    "\n"
   ]
  },
  {
   "cell_type": "code",
   "execution_count": 24,
   "metadata": {
    "collapsed": false
   },
   "outputs": [
    {
     "data": {
      "text/plain": [
       "Index([u'id', u'created', u'updated', u'birthdate', u'birthPlace', u'gender',\n",
       "       u'lastName', u'nationality', u'passportType', u'signupCompleted',\n",
       "       u'gender_str', u'pass_is_not_nan', u'signup_pass_entred',\n",
       "       u'estimated_age_at_creation', u'created_year', u'created_estimated',\n",
       "       u'updated_estimated', u'birthdate_estimated'],\n",
       "      dtype='object')"
      ]
     },
     "execution_count": 24,
     "metadata": {},
     "output_type": "execute_result"
    }
   ],
   "source": [
    "train_data_df.columns"
   ]
  },
  {
   "cell_type": "code",
   "execution_count": 33,
   "metadata": {
    "collapsed": false
   },
   "outputs": [],
   "source": [
    "from sklearn.tree import DecisionTreeClassifier\n",
    "from sklearn.ensemble import RandomForestClassifier\n",
    "\n",
    "train_data_df['train_test'] = 'train'\n",
    "\n",
    "test_data_df = None # Please load test data here (so the added features will be generated for prediction) \n",
    "\n",
    "if test_data_df:\n",
    "    test_data_df['train_test'] = 'test'\n",
    "    all_df = pd.concat((train_data_df, test_data_df), axis=0, ignore_index=True)\n",
    "else:\n",
    "    all_df = train_data_df\n",
    "\n",
    "\n",
    "# Generate one hot encoding for nationality  and birthplace \n",
    "nationality_features = one_hot_encoding(all_df, 'nationality', top_k=20)    \n",
    "birthplace_features = one_hot_encoding(all_df, 'birthPlace', top_k=20)\n",
    "\n",
    "target_feature = 'signupCompleted'\n",
    "learning_features =  [ 'gender', 'pass_is_not_nan',  'created', 'updated']  + nationality_features + birthplace_features\n",
    "# , 'pass_is_not_nan' , 'estimated_age_at_creation']\n",
    "# Define (re-split) train/test data  \n",
    "training_data =  all_df[all_df['train_test']== 'train']\n",
    "target = training_data[target_feature]\n",
    "TrainXfeatures = training_data[learning_features]\n",
    "# Test data\n",
    "test_data =  all_df[all_df['train_test']== 'test']\n",
    "TestXfeatures = test_data[learning_features]\n",
    "\n",
    "# Generate (training/validation) splits ...\n",
    "\n",
    "from random import shuffle\n",
    "def gen_split_column(df, fraction=0.5, column_name='split'):\n",
    "\n",
    "    \"\"\" Generates/Defines a random splitting \n",
    "        and merges them with columns. \n",
    "        instead of copying the data for each split\"\"\"\n",
    "    indxs = range(len(df))\n",
    "    shuffle(indxs)\n",
    "    split_point = int(len(df)*fraction)\n",
    "    df[column_name] = 0 # init values to 0\n",
    "    df[column_name][indxs[:split_point]] = 1 # define training data (test data will keep 0 value)\n",
    "\n",
    "def acc_scorer(estimator, X, gt):\n",
    "    \"\"\" Computes classification accuracy \"\"\"\n",
    "    return np.mean(map(int, estimator.predict(X) == gt))\n",
    "\n",
    "def pre_acc_scorer(prediction, gt):\n",
    "    \"\"\" Computes classification accuracy \"\"\"\n",
    "    return np.mean(map(int, prediction == gt))\n",
    "\n",
    "def evaluate_model(model_, label=''):\n",
    "    \"\"\" (Cross validation) multiple splits. \"\"\"\n",
    "    train_acc = []\n",
    "    valid_acc = []\n",
    "    pass_is_not_nan_acc = []\n",
    "    for split in splitting_cols:\n",
    "        train, valid = training_data[training_data[split]==1], training_data[training_data[split]==0]\n",
    "        model_.fit(train[learning_features].values, train[target_feature].values)\n",
    "            \n",
    "        train_acc.append(acc_scorer(model_, train[learning_features].values, train[target_feature].values))\n",
    "        valid_acc.append(acc_scorer(model_, valid[learning_features].values, valid[target_feature].values))\n",
    "        pass_is_not_nan_acc.append(pre_acc_scorer(valid['pass_is_not_nan'].values, valid[target_feature].values))\n",
    "#         if hasattr(model_, 'n_features_'):\n",
    "#             print 'n feature', model_.n_features_\n",
    "#         if hasattr(model_, 'estimators_'):\n",
    "#             print 'estimators', model_.estimators_\n",
    "\n",
    "#    plt.plot (range(len(valid_mse)), valid_mse, label=label)\n",
    "#    plt.legend()\n",
    "    print 'train mean accuracy : {}, valid. mean accuracy : {}, valid. pass_is_not_nan: {}'.\\\n",
    "    format(np.mean(train_acc),  np.mean(valid_acc), np.mean(pass_is_not_nan_acc))\n",
    "    return np.mean(train_acc),  np.mean(valid_acc)\n",
    "\n",
    "    \n"
   ]
  },
  {
   "cell_type": "code",
   "execution_count": 34,
   "metadata": {
    "collapsed": false
   },
   "outputs": [
    {
     "name": "stderr",
     "output_type": "stream",
     "text": [
      "/Users/wajih/dato-env/lib/python2.7/site-packages/ipykernel/__main__.py:42: SettingWithCopyWarning: \n",
      "A value is trying to be set on a copy of a slice from a DataFrame\n",
      "\n",
      "See the caveats in the documentation: http://pandas.pydata.org/pandas-docs/stable/indexing.html#indexing-view-versus-copy\n"
     ]
    }
   ],
   "source": [
    "# Generates multiple splitting train/valid configs of the data\n",
    "splitting_cols = []\n",
    "for splt_idx in range(20):\n",
    "    frac = 0.7\n",
    "    column_name = 'split_{}_frac_{}'.format(splt_idx, frac)\n",
    "    splitting_cols.append(column_name)\n",
    "    drop_column(training_data, column_name)\n",
    "    gen_split_column(training_data, fraction=frac, column_name = column_name)"
   ]
  },
  {
   "cell_type": "markdown",
   "metadata": {},
   "source": [
    "## Testing with decision tree"
   ]
  },
  {
   "cell_type": "code",
   "execution_count": 35,
   "metadata": {
    "collapsed": false
   },
   "outputs": [
    {
     "name": "stdout",
     "output_type": "stream",
     "text": [
      "train mean accuracy : 0.931459183673, valid. mean accuracy : 0.929714285714, valid. pass_is_not_nan: 0.908345238095\n",
      "train mean accuracy : 0.944316326531, valid. mean accuracy : 0.938297619048, valid. pass_is_not_nan: 0.908345238095\n",
      "train mean accuracy : 0.956770408163, valid. mean accuracy : 0.938928571429, valid. pass_is_not_nan: 0.908345238095\n",
      "train mean accuracy : 0.972974489796, valid. mean accuracy : 0.935154761905, valid. pass_is_not_nan: 0.908345238095\n",
      "train mean accuracy : 0.986392857143, valid. mean accuracy : 0.932214285714, valid. pass_is_not_nan: 0.908345238095\n",
      "train mean accuracy : 0.994005102041, valid. mean accuracy : 0.929178571429, valid. pass_is_not_nan: 0.908345238095\n",
      "train mean accuracy : 0.997607142857, valid. mean accuracy : 0.928702380952, valid. pass_is_not_nan: 0.908345238095\n",
      "train mean accuracy : 0.99912244898, valid. mean accuracy : 0.927345238095, valid. pass_is_not_nan: 0.908345238095\n"
     ]
    },
    {
     "data": {
      "text/plain": [
       "<matplotlib.figure.Figure at 0x117a36c90>"
      ]
     },
     "metadata": {},
     "output_type": "display_data"
    }
   ],
   "source": [
    "# Decision tree\n",
    "depths = []\n",
    "runs = [] \n",
    "plt.figure(figsize=(10, 6))\n",
    "for criterion in ['gini']:#, 'entropy']:\n",
    "    for depth in np.arange(2, 40,5):\n",
    "        depths.append(depth)\n",
    "        dtree_model = DecisionTreeClassifier(max_depth=depth, criterion=criterion)\n",
    "        runs.append(evaluate_model(dtree_model, label = 'dtree_crit_{}_max_depth_{}'.format(criterion, depth)))\n"
   ]
  },
  {
   "cell_type": "code",
   "execution_count": 36,
   "metadata": {
    "collapsed": false
   },
   "outputs": [
    {
     "data": {
      "text/plain": [
       "[<matplotlib.lines.Line2D at 0x117ba7c90>]"
      ]
     },
     "execution_count": 36,
     "metadata": {},
     "output_type": "execute_result"
    },
    {
     "data": {
      "image/png": "[encoded data removed]",
      "text/plain": [
       "<matplotlib.figure.Figure at 0x116214fd0>"
      ]
     },
     "metadata": {},
     "output_type": "display_data"
    }
   ],
   "source": [
    "train_perf, valid_perf = zip(*runs)\n",
    "plt.plot(depths, train_perf)\n",
    "plt.plot(depths, valid_perf)"
   ]
  },
  {
   "cell_type": "markdown",
   "metadata": {},
   "source": [
    "### Observation:\n",
    "decision tree seems to overfit after a depth of 12-13 levels so it is better to learn the model with this depth parameter. The mode outperforms the accuracy of pass_is_not_nan features (while combining it with the other features)"
   ]
  },
  {
   "cell_type": "markdown",
   "metadata": {},
   "source": [
    "## Testing with random forest (multiple decision trees)"
   ]
  },
  {
   "cell_type": "code",
   "execution_count": null,
   "metadata": {
    "collapsed": false
   },
   "outputs": [
    {
     "name": "stdout",
     "output_type": "stream",
     "text": [
      "RandomForest Classifiers:\n",
      "train mean accuracy : 0.98862755102, valid. mean accuracy : 0.930928571429, valid. pass_is_not_nan: 0.908345238095\n",
      "train mean accuracy : 0.995908163265, valid. mean accuracy : 0.936464285714, valid. pass_is_not_nan: 0.908345238095\n",
      "train mean accuracy : 0.997806122449, valid. mean accuracy : 0.938404761905, valid. pass_is_not_nan: 0.908345238095"
     ]
    }
   ],
   "source": [
    "# Random forest classifier\n",
    "estims_nbr = []\n",
    "runs = [] \n",
    "print \"RandomForest Classifiers:\"\n",
    "for n_estim in np.arange(5,100,10):\n",
    "    estims_nbr.append(n_estim)\n",
    "    rfc_model = RandomForestClassifier(n_estimators=n_estim)\n",
    "    runs.append(evaluate_model(rfc_model, label = 'Random Forest, {} estim'.format(n_estim)))\n",
    " \n",
    "train_perf, valid_perf = zip(*runs)\n",
    "plt.plot(estims_nbr, train_perf)\n",
    "plt.plot(estims_nbr, valid_perf)"
   ]
  },
  {
   "cell_type": "markdown",
   "metadata": {},
   "source": [
    "### Observation:\n",
    "The Randomforest outperforms the accuracy of the decision tree by 1% and the (pass_is_not_nan) by 3% , and it is also more stable and doesn't show an overfitting at least for the range of the parameters used in the evaluation."
   ]
  },
  {
   "cell_type": "code",
   "execution_count": 30,
   "metadata": {
    "collapsed": false
   },
   "outputs": [],
   "source": [
    "# Building a model with all training data\n",
    "model = RandomForestClassifier(n_estimators=90)\n",
    "model.fit(TrainXfeatures.values, target.values)\n",
    "# Test the model with the test dat\n",
    "test_pred = None\n",
    "if len(TestXfeatures):\n",
    "    test_pred = model.predict(TestXfeatures)"
   ]
  }
 ],
 "metadata": {
  "kernelspec": {
   "display_name": "Python 2",
   "language": "python",
   "name": "python2"
  },
  "language_info": {
   "codemirror_mode": {
    "name": "ipython",
    "version": 2
   },
   "file_extension": ".py",
   "mimetype": "text/x-python",
   "name": "python",
   "nbconvert_exporter": "python",
   "pygments_lexer": "ipython2",
   "version": "2.7.10"
  }
 },
 "nbformat": 4,
 "nbformat_minor": 0
}
